{
 "cells": [
  {
   "cell_type": "markdown",
   "id": "17ddfa57-cb34-4dbf-bdfd-3eef8d24cc21",
   "metadata": {},
   "source": [
    "### Insurance premium prediction project  "
   ]
  },
  {
   "cell_type": "code",
   "execution_count": 1,
   "id": "aa7f14e8-f284-4bc3-a963-454aa2d677ed",
   "metadata": {},
   "outputs": [
    {
     "name": "stdout",
     "output_type": "stream",
     "text": [
      "libraries imported\n"
     ]
    }
   ],
   "source": [
    "import numpy as np \n",
    "import pandas as pd \n",
    "import matplotlib.pyplot  as plt \n",
    "import seaborn as sns \n",
    "print(\"libraries imported\")"
   ]
  },
  {
   "cell_type": "code",
   "execution_count": 2,
   "id": "6094424a-0f84-4972-bd0c-6fb709992c41",
   "metadata": {},
   "outputs": [
    {
     "data": {
      "text/html": [
       "<div>\n",
       "<style scoped>\n",
       "    .dataframe tbody tr th:only-of-type {\n",
       "        vertical-align: middle;\n",
       "    }\n",
       "\n",
       "    .dataframe tbody tr th {\n",
       "        vertical-align: top;\n",
       "    }\n",
       "\n",
       "    .dataframe thead th {\n",
       "        text-align: right;\n",
       "    }\n",
       "</style>\n",
       "<table border=\"1\" class=\"dataframe\">\n",
       "  <thead>\n",
       "    <tr style=\"text-align: right;\">\n",
       "      <th></th>\n",
       "      <th>age</th>\n",
       "      <th>sex</th>\n",
       "      <th>bmi</th>\n",
       "      <th>children</th>\n",
       "      <th>smoker</th>\n",
       "      <th>region</th>\n",
       "      <th>charges</th>\n",
       "    </tr>\n",
       "  </thead>\n",
       "  <tbody>\n",
       "    <tr>\n",
       "      <th>0</th>\n",
       "      <td>19</td>\n",
       "      <td>female</td>\n",
       "      <td>27.900</td>\n",
       "      <td>0</td>\n",
       "      <td>yes</td>\n",
       "      <td>southwest</td>\n",
       "      <td>16884.92400</td>\n",
       "    </tr>\n",
       "    <tr>\n",
       "      <th>1</th>\n",
       "      <td>18</td>\n",
       "      <td>male</td>\n",
       "      <td>33.770</td>\n",
       "      <td>1</td>\n",
       "      <td>no</td>\n",
       "      <td>southeast</td>\n",
       "      <td>1725.55230</td>\n",
       "    </tr>\n",
       "    <tr>\n",
       "      <th>2</th>\n",
       "      <td>28</td>\n",
       "      <td>male</td>\n",
       "      <td>33.000</td>\n",
       "      <td>3</td>\n",
       "      <td>no</td>\n",
       "      <td>southeast</td>\n",
       "      <td>4449.46200</td>\n",
       "    </tr>\n",
       "    <tr>\n",
       "      <th>3</th>\n",
       "      <td>33</td>\n",
       "      <td>male</td>\n",
       "      <td>22.705</td>\n",
       "      <td>0</td>\n",
       "      <td>no</td>\n",
       "      <td>northwest</td>\n",
       "      <td>21984.47061</td>\n",
       "    </tr>\n",
       "    <tr>\n",
       "      <th>4</th>\n",
       "      <td>32</td>\n",
       "      <td>male</td>\n",
       "      <td>28.880</td>\n",
       "      <td>0</td>\n",
       "      <td>no</td>\n",
       "      <td>northwest</td>\n",
       "      <td>3866.85520</td>\n",
       "    </tr>\n",
       "  </tbody>\n",
       "</table>\n",
       "</div>"
      ],
      "text/plain": [
       "   age     sex     bmi  children smoker     region      charges\n",
       "0   19  female  27.900         0    yes  southwest  16884.92400\n",
       "1   18    male  33.770         1     no  southeast   1725.55230\n",
       "2   28    male  33.000         3     no  southeast   4449.46200\n",
       "3   33    male  22.705         0     no  northwest  21984.47061\n",
       "4   32    male  28.880         0     no  northwest   3866.85520"
      ]
     },
     "execution_count": 2,
     "metadata": {},
     "output_type": "execute_result"
    }
   ],
   "source": [
    "df = pd.read_csv('https://raw.githubusercontent.com/upflairs-pvt-ltd/1st_june_data_science/master/insurance/insurance.csv')\n",
    "df.head()"
   ]
  },
  {
   "cell_type": "code",
   "execution_count": 3,
   "id": "26f5353e-a291-4f98-853a-991e0858da0a",
   "metadata": {},
   "outputs": [
    {
     "name": "stdout",
     "output_type": "stream",
     "text": [
      "<class 'pandas.core.frame.DataFrame'>\n",
      "RangeIndex: 1338 entries, 0 to 1337\n",
      "Data columns (total 7 columns):\n",
      " #   Column    Non-Null Count  Dtype  \n",
      "---  ------    --------------  -----  \n",
      " 0   age       1338 non-null   int64  \n",
      " 1   sex       1338 non-null   object \n",
      " 2   bmi       1338 non-null   float64\n",
      " 3   children  1338 non-null   int64  \n",
      " 4   smoker    1338 non-null   object \n",
      " 5   region    1338 non-null   object \n",
      " 6   charges   1338 non-null   float64\n",
      "dtypes: float64(2), int64(2), object(3)\n",
      "memory usage: 73.3+ KB\n"
     ]
    }
   ],
   "source": [
    "df.info()"
   ]
  },
  {
   "cell_type": "code",
   "execution_count": 4,
   "id": "783edf0a-1179-4c02-81c8-428c99981d41",
   "metadata": {},
   "outputs": [
    {
     "name": "stdout",
     "output_type": "stream",
     "text": [
      "Duplicate records :  1\n"
     ]
    }
   ],
   "source": [
    "# finding duplicates record \n",
    "print(\"Duplicate records : \",df.duplicated().sum())"
   ]
  },
  {
   "cell_type": "code",
   "execution_count": 5,
   "id": "5107043b-fca5-4111-9bf4-b2080fc0498e",
   "metadata": {},
   "outputs": [
    {
     "data": {
      "text/plain": [
       "age         0\n",
       "sex         0\n",
       "bmi         0\n",
       "children    0\n",
       "smoker      0\n",
       "region      0\n",
       "charges     0\n",
       "dtype: int64"
      ]
     },
     "execution_count": 5,
     "metadata": {},
     "output_type": "execute_result"
    }
   ],
   "source": [
    "# checking missing value \n",
    "df.isnull().sum()\n"
   ]
  },
  {
   "cell_type": "code",
   "execution_count": 6,
   "id": "3d20afb6-5c1f-4ba6-bba1-80b900f8d97e",
   "metadata": {},
   "outputs": [
    {
     "data": {
      "text/plain": [
       "Index(['age', 'sex', 'bmi', 'children', 'smoker', 'region', 'charges'], dtype='object')"
      ]
     },
     "execution_count": 6,
     "metadata": {},
     "output_type": "execute_result"
    }
   ],
   "source": [
    "df.columns"
   ]
  },
  {
   "cell_type": "code",
   "execution_count": 7,
   "id": "d9599227-a3ae-411f-86b8-bc5dd84319d2",
   "metadata": {},
   "outputs": [],
   "source": [
    "df.columns  = ['age', 'gender', 'bmi', 'child', 'smoker', 'region', 'charges']\n"
   ]
  },
  {
   "cell_type": "code",
   "execution_count": 8,
   "id": "8a33eb20-2a30-4faf-891c-b37d6b0d25a4",
   "metadata": {},
   "outputs": [
    {
     "data": {
      "text/html": [
       "<div>\n",
       "<style scoped>\n",
       "    .dataframe tbody tr th:only-of-type {\n",
       "        vertical-align: middle;\n",
       "    }\n",
       "\n",
       "    .dataframe tbody tr th {\n",
       "        vertical-align: top;\n",
       "    }\n",
       "\n",
       "    .dataframe thead th {\n",
       "        text-align: right;\n",
       "    }\n",
       "</style>\n",
       "<table border=\"1\" class=\"dataframe\">\n",
       "  <thead>\n",
       "    <tr style=\"text-align: right;\">\n",
       "      <th></th>\n",
       "      <th>age</th>\n",
       "      <th>gender</th>\n",
       "      <th>bmi</th>\n",
       "      <th>child</th>\n",
       "      <th>smoker</th>\n",
       "      <th>region</th>\n",
       "      <th>charges</th>\n",
       "    </tr>\n",
       "  </thead>\n",
       "  <tbody>\n",
       "    <tr>\n",
       "      <th>0</th>\n",
       "      <td>19</td>\n",
       "      <td>female</td>\n",
       "      <td>27.90</td>\n",
       "      <td>0</td>\n",
       "      <td>yes</td>\n",
       "      <td>southwest</td>\n",
       "      <td>16884.9240</td>\n",
       "    </tr>\n",
       "    <tr>\n",
       "      <th>1</th>\n",
       "      <td>18</td>\n",
       "      <td>male</td>\n",
       "      <td>33.77</td>\n",
       "      <td>1</td>\n",
       "      <td>no</td>\n",
       "      <td>southeast</td>\n",
       "      <td>1725.5523</td>\n",
       "    </tr>\n",
       "  </tbody>\n",
       "</table>\n",
       "</div>"
      ],
      "text/plain": [
       "   age  gender    bmi  child smoker     region     charges\n",
       "0   19  female  27.90      0    yes  southwest  16884.9240\n",
       "1   18    male  33.77      1     no  southeast   1725.5523"
      ]
     },
     "execution_count": 8,
     "metadata": {},
     "output_type": "execute_result"
    }
   ],
   "source": [
    "df.head(2)"
   ]
  },
  {
   "cell_type": "code",
   "execution_count": 9,
   "id": "111ed9dd-de03-4dd8-aeba-4a9339a5c550",
   "metadata": {},
   "outputs": [
    {
     "data": {
      "text/plain": [
       "gender\n",
       "male      676\n",
       "female    662\n",
       "Name: count, dtype: int64"
      ]
     },
     "execution_count": 9,
     "metadata": {},
     "output_type": "execute_result"
    }
   ],
   "source": [
    "df['gender'].value_counts()"
   ]
  },
  {
   "cell_type": "code",
   "execution_count": 10,
   "id": "2f27da42-2de9-40ad-a6da-76ea50308f30",
   "metadata": {},
   "outputs": [
    {
     "data": {
      "text/plain": [
       "region\n",
       "southeast    364\n",
       "southwest    325\n",
       "northwest    325\n",
       "northeast    324\n",
       "Name: count, dtype: int64"
      ]
     },
     "execution_count": 10,
     "metadata": {},
     "output_type": "execute_result"
    }
   ],
   "source": [
    "df['region'].value_counts()\n"
   ]
  },
  {
   "cell_type": "code",
   "execution_count": 11,
   "id": "b868a884-4aa4-432d-80b2-e087c5adffdf",
   "metadata": {},
   "outputs": [
    {
     "data": {
      "text/plain": [
       "1121.8739"
      ]
     },
     "execution_count": 11,
     "metadata": {},
     "output_type": "execute_result"
    }
   ],
   "source": [
    "df['charges'].min()"
   ]
  },
  {
   "cell_type": "code",
   "execution_count": 12,
   "id": "7f7b3f3d-ab3c-489b-90e0-fa9d68f79a06",
   "metadata": {},
   "outputs": [
    {
     "data": {
      "text/plain": [
       "63770.42801"
      ]
     },
     "execution_count": 12,
     "metadata": {},
     "output_type": "execute_result"
    }
   ],
   "source": [
    "df['charges'].max()"
   ]
  },
  {
   "cell_type": "code",
   "execution_count": 13,
   "id": "56fadf25-4d7d-4891-a89f-c4cc69c15b3d",
   "metadata": {},
   "outputs": [
    {
     "data": {
      "text/plain": [
       "13270.422265141257"
      ]
     },
     "execution_count": 13,
     "metadata": {},
     "output_type": "execute_result"
    }
   ],
   "source": [
    "df['charges'].mean()\n"
   ]
  },
  {
   "cell_type": "code",
   "execution_count": 14,
   "id": "456074c3-213e-4033-be7c-1f0202f9764f",
   "metadata": {},
   "outputs": [],
   "source": [
    "female = df[df['gender'] == 'female']\n",
    "male = df[df['gender'] == 'male']\n"
   ]
  },
  {
   "cell_type": "code",
   "execution_count": 15,
   "id": "2ec24d86-f8a5-4222-92fe-78cf26962df3",
   "metadata": {},
   "outputs": [
    {
     "name": "stdout",
     "output_type": "stream",
     "text": [
      "Female charges :  12569.578843835347\n",
      "Male charges :  13956.751177721893\n"
     ]
    }
   ],
   "source": [
    "print(\"Female charges : \",female['charges'].mean())\n",
    "print(\"Male charges : \",male['charges'].mean())"
   ]
  },
  {
   "cell_type": "code",
   "execution_count": 16,
   "id": "90528183-2706-4f41-9914-99125f347896",
   "metadata": {},
   "outputs": [
    {
     "data": {
      "text/plain": [
       "smoker\n",
       "no     547\n",
       "yes    115\n",
       "Name: count, dtype: int64"
      ]
     },
     "execution_count": 16,
     "metadata": {},
     "output_type": "execute_result"
    }
   ],
   "source": [
    "female['smoker'].value_counts()"
   ]
  },
  {
   "cell_type": "code",
   "execution_count": 17,
   "id": "fcdc8c87-10c7-45c4-a421-e91c3970b02c",
   "metadata": {},
   "outputs": [
    {
     "data": {
      "text/plain": [
       "smoker\n",
       "no     517\n",
       "yes    159\n",
       "Name: count, dtype: int64"
      ]
     },
     "execution_count": 17,
     "metadata": {},
     "output_type": "execute_result"
    }
   ],
   "source": [
    "male['smoker'].value_counts()\n"
   ]
  },
  {
   "cell_type": "code",
   "execution_count": 18,
   "id": "e7e84c71-93d9-4240-84e1-0075451c78ea",
   "metadata": {},
   "outputs": [
    {
     "name": "stdout",
     "output_type": "stream",
     "text": [
      "Total Girls :  662\n",
      "Total Boys :  676\n"
     ]
    }
   ],
   "source": [
    "print(\"Total Girls : \", female.shape[0]) \n",
    "print(\"Total Boys : \", male.shape[0] )\n",
    "     "
   ]
  },
  {
   "cell_type": "code",
   "execution_count": 19,
   "id": "cbf1a24a-e7b6-44da-98dc-f5d53bbec319",
   "metadata": {},
   "outputs": [
    {
     "data": {
      "text/html": [
       "<div>\n",
       "<style scoped>\n",
       "    .dataframe tbody tr th:only-of-type {\n",
       "        vertical-align: middle;\n",
       "    }\n",
       "\n",
       "    .dataframe tbody tr th {\n",
       "        vertical-align: top;\n",
       "    }\n",
       "\n",
       "    .dataframe thead th {\n",
       "        text-align: right;\n",
       "    }\n",
       "</style>\n",
       "<table border=\"1\" class=\"dataframe\">\n",
       "  <thead>\n",
       "    <tr style=\"text-align: right;\">\n",
       "      <th></th>\n",
       "      <th>age</th>\n",
       "      <th>gender</th>\n",
       "      <th>bmi</th>\n",
       "      <th>child</th>\n",
       "      <th>smoker</th>\n",
       "      <th>region</th>\n",
       "      <th>charges</th>\n",
       "    </tr>\n",
       "  </thead>\n",
       "  <tbody>\n",
       "    <tr>\n",
       "      <th>5</th>\n",
       "      <td>31</td>\n",
       "      <td>female</td>\n",
       "      <td>25.74</td>\n",
       "      <td>0</td>\n",
       "      <td>no</td>\n",
       "      <td>southeast</td>\n",
       "      <td>3756.6216</td>\n",
       "    </tr>\n",
       "    <tr>\n",
       "      <th>6</th>\n",
       "      <td>46</td>\n",
       "      <td>female</td>\n",
       "      <td>33.44</td>\n",
       "      <td>1</td>\n",
       "      <td>no</td>\n",
       "      <td>southeast</td>\n",
       "      <td>8240.5896</td>\n",
       "    </tr>\n",
       "    <tr>\n",
       "      <th>7</th>\n",
       "      <td>37</td>\n",
       "      <td>female</td>\n",
       "      <td>27.74</td>\n",
       "      <td>3</td>\n",
       "      <td>no</td>\n",
       "      <td>northwest</td>\n",
       "      <td>7281.5056</td>\n",
       "    </tr>\n",
       "    <tr>\n",
       "      <th>13</th>\n",
       "      <td>56</td>\n",
       "      <td>female</td>\n",
       "      <td>39.82</td>\n",
       "      <td>0</td>\n",
       "      <td>no</td>\n",
       "      <td>southeast</td>\n",
       "      <td>11090.7178</td>\n",
       "    </tr>\n",
       "    <tr>\n",
       "      <th>16</th>\n",
       "      <td>52</td>\n",
       "      <td>female</td>\n",
       "      <td>30.78</td>\n",
       "      <td>1</td>\n",
       "      <td>no</td>\n",
       "      <td>northeast</td>\n",
       "      <td>10797.3362</td>\n",
       "    </tr>\n",
       "  </tbody>\n",
       "</table>\n",
       "</div>"
      ],
      "text/plain": [
       "    age  gender    bmi  child smoker     region     charges\n",
       "5    31  female  25.74      0     no  southeast   3756.6216\n",
       "6    46  female  33.44      1     no  southeast   8240.5896\n",
       "7    37  female  27.74      3     no  northwest   7281.5056\n",
       "13   56  female  39.82      0     no  southeast  11090.7178\n",
       "16   52  female  30.78      1     no  northeast  10797.3362"
      ]
     },
     "execution_count": 19,
     "metadata": {},
     "output_type": "execute_result"
    }
   ],
   "source": [
    "average_charges = female['charges'].mean()\n",
    "df2 = female[female['charges'] <= average_charges]\n",
    "df2.head()"
   ]
  },
  {
   "cell_type": "code",
   "execution_count": 20,
   "id": "4f96e058-6f98-474e-b744-5fb5efa5038c",
   "metadata": {},
   "outputs": [
    {
     "name": "stdout",
     "output_type": "stream",
     "text": [
      "Total Girls :  441\n"
     ]
    }
   ],
   "source": [
    "print(\"Total Girls : \", df2.shape[0]) "
   ]
  },
  {
   "cell_type": "code",
   "execution_count": 21,
   "id": "0aef4c3b-6ce1-4d73-a8b3-fa377737361c",
   "metadata": {},
   "outputs": [
    {
     "data": {
      "text/plain": [
       "smoker\n",
       "no    441\n",
       "Name: count, dtype: int64"
      ]
     },
     "execution_count": 21,
     "metadata": {},
     "output_type": "execute_result"
    }
   ],
   "source": [
    "df2['smoker'].value_counts()"
   ]
  },
  {
   "cell_type": "code",
   "execution_count": 22,
   "id": "2486fb4f-5749-41a7-aea0-801ba00643f0",
   "metadata": {},
   "outputs": [
    {
     "data": {
      "text/html": [
       "<div>\n",
       "<style scoped>\n",
       "    .dataframe tbody tr th:only-of-type {\n",
       "        vertical-align: middle;\n",
       "    }\n",
       "\n",
       "    .dataframe tbody tr th {\n",
       "        vertical-align: top;\n",
       "    }\n",
       "\n",
       "    .dataframe thead th {\n",
       "        text-align: right;\n",
       "    }\n",
       "</style>\n",
       "<table border=\"1\" class=\"dataframe\">\n",
       "  <thead>\n",
       "    <tr style=\"text-align: right;\">\n",
       "      <th></th>\n",
       "      <th>age</th>\n",
       "      <th>gender</th>\n",
       "      <th>bmi</th>\n",
       "      <th>child</th>\n",
       "      <th>smoker</th>\n",
       "      <th>region</th>\n",
       "      <th>charges</th>\n",
       "    </tr>\n",
       "  </thead>\n",
       "  <tbody>\n",
       "    <tr>\n",
       "      <th>1</th>\n",
       "      <td>18</td>\n",
       "      <td>male</td>\n",
       "      <td>33.77</td>\n",
       "      <td>1</td>\n",
       "      <td>no</td>\n",
       "      <td>southeast</td>\n",
       "      <td>1725.5523</td>\n",
       "    </tr>\n",
       "    <tr>\n",
       "      <th>2</th>\n",
       "      <td>28</td>\n",
       "      <td>male</td>\n",
       "      <td>33.00</td>\n",
       "      <td>3</td>\n",
       "      <td>no</td>\n",
       "      <td>southeast</td>\n",
       "      <td>4449.4620</td>\n",
       "    </tr>\n",
       "    <tr>\n",
       "      <th>4</th>\n",
       "      <td>32</td>\n",
       "      <td>male</td>\n",
       "      <td>28.88</td>\n",
       "      <td>0</td>\n",
       "      <td>no</td>\n",
       "      <td>northwest</td>\n",
       "      <td>3866.8552</td>\n",
       "    </tr>\n",
       "    <tr>\n",
       "      <th>8</th>\n",
       "      <td>37</td>\n",
       "      <td>male</td>\n",
       "      <td>29.83</td>\n",
       "      <td>2</td>\n",
       "      <td>no</td>\n",
       "      <td>northeast</td>\n",
       "      <td>6406.4107</td>\n",
       "    </tr>\n",
       "    <tr>\n",
       "      <th>10</th>\n",
       "      <td>25</td>\n",
       "      <td>male</td>\n",
       "      <td>26.22</td>\n",
       "      <td>0</td>\n",
       "      <td>no</td>\n",
       "      <td>northeast</td>\n",
       "      <td>2721.3208</td>\n",
       "    </tr>\n",
       "  </tbody>\n",
       "</table>\n",
       "</div>"
      ],
      "text/plain": [
       "    age gender    bmi  child smoker     region    charges\n",
       "1    18   male  33.77      1     no  southeast  1725.5523\n",
       "2    28   male  33.00      3     no  southeast  4449.4620\n",
       "4    32   male  28.88      0     no  northwest  3866.8552\n",
       "8    37   male  29.83      2     no  northeast  6406.4107\n",
       "10   25   male  26.22      0     no  northeast  2721.3208"
      ]
     },
     "execution_count": 22,
     "metadata": {},
     "output_type": "execute_result"
    }
   ],
   "source": [
    "average_charges = male['charges'].mean()\n",
    "df3 = male[male['charges'] <= average_charges]\n",
    "df3.head()"
   ]
  },
  {
   "cell_type": "code",
   "execution_count": 23,
   "id": "6e439da3-013e-43c8-b13e-c6a9c63e396d",
   "metadata": {},
   "outputs": [
    {
     "name": "stdout",
     "output_type": "stream",
     "text": [
      "Total Mail :  466\n"
     ]
    }
   ],
   "source": [
    "print(\"Total Mail : \", df3.shape[0]) \n"
   ]
  },
  {
   "cell_type": "code",
   "execution_count": 24,
   "id": "833a51da-bba8-48b9-8408-db582780f5e2",
   "metadata": {},
   "outputs": [
    {
     "data": {
      "text/plain": [
       "smoker\n",
       "no     464\n",
       "yes      2\n",
       "Name: count, dtype: int64"
      ]
     },
     "execution_count": 24,
     "metadata": {},
     "output_type": "execute_result"
    }
   ],
   "source": [
    "df3['smoker'].value_counts()\n"
   ]
  },
  {
   "cell_type": "markdown",
   "id": "cf707967-92a2-4786-9805-b2068ba4ec09",
   "metadata": {},
   "source": [
    "### Male condidate region charges "
   ]
  },
  {
   "cell_type": "code",
   "execution_count": 25,
   "id": "24dc7858-0c8b-4ba7-811a-ebf8b0dadedb",
   "metadata": {},
   "outputs": [],
   "source": [
    "male_region = male.groupby('region')"
   ]
  },
  {
   "cell_type": "code",
   "execution_count": 26,
   "id": "e2fc1f8c-4167-41b1-8d7c-4837d944162c",
   "metadata": {},
   "outputs": [
    {
     "data": {
      "text/html": [
       "<div>\n",
       "<style scoped>\n",
       "    .dataframe tbody tr th:only-of-type {\n",
       "        vertical-align: middle;\n",
       "    }\n",
       "\n",
       "    .dataframe tbody tr th {\n",
       "        vertical-align: top;\n",
       "    }\n",
       "\n",
       "    .dataframe thead th {\n",
       "        text-align: right;\n",
       "    }\n",
       "</style>\n",
       "<table border=\"1\" class=\"dataframe\">\n",
       "  <thead>\n",
       "    <tr style=\"text-align: right;\">\n",
       "      <th></th>\n",
       "      <th>charges</th>\n",
       "    </tr>\n",
       "    <tr>\n",
       "      <th>region</th>\n",
       "      <th></th>\n",
       "    </tr>\n",
       "  </thead>\n",
       "  <tbody>\n",
       "    <tr>\n",
       "      <th>northeast</th>\n",
       "      <td>1694.7964</td>\n",
       "    </tr>\n",
       "    <tr>\n",
       "      <th>northwest</th>\n",
       "      <td>1621.3402</td>\n",
       "    </tr>\n",
       "    <tr>\n",
       "      <th>southeast</th>\n",
       "      <td>1121.8739</td>\n",
       "    </tr>\n",
       "    <tr>\n",
       "      <th>southwest</th>\n",
       "      <td>1241.5650</td>\n",
       "    </tr>\n",
       "  </tbody>\n",
       "</table>\n",
       "</div>"
      ],
      "text/plain": [
       "             charges\n",
       "region              \n",
       "northeast  1694.7964\n",
       "northwest  1621.3402\n",
       "southeast  1121.8739\n",
       "southwest  1241.5650"
      ]
     },
     "execution_count": 26,
     "metadata": {},
     "output_type": "execute_result"
    }
   ],
   "source": [
    "male_region[['charges']].min()"
   ]
  },
  {
   "cell_type": "code",
   "execution_count": 27,
   "id": "a6a11d64-20ea-44f5-aae7-5240c3e3b99c",
   "metadata": {},
   "outputs": [
    {
     "data": {
      "text/html": [
       "<div>\n",
       "<style scoped>\n",
       "    .dataframe tbody tr th:only-of-type {\n",
       "        vertical-align: middle;\n",
       "    }\n",
       "\n",
       "    .dataframe tbody tr th {\n",
       "        vertical-align: top;\n",
       "    }\n",
       "\n",
       "    .dataframe thead th {\n",
       "        text-align: right;\n",
       "    }\n",
       "</style>\n",
       "<table border=\"1\" class=\"dataframe\">\n",
       "  <thead>\n",
       "    <tr style=\"text-align: right;\">\n",
       "      <th></th>\n",
       "      <th>charges</th>\n",
       "    </tr>\n",
       "    <tr>\n",
       "      <th>region</th>\n",
       "      <th></th>\n",
       "    </tr>\n",
       "  </thead>\n",
       "  <tbody>\n",
       "    <tr>\n",
       "      <th>northeast</th>\n",
       "      <td>48549.17835</td>\n",
       "    </tr>\n",
       "    <tr>\n",
       "      <th>northwest</th>\n",
       "      <td>60021.39897</td>\n",
       "    </tr>\n",
       "    <tr>\n",
       "      <th>southeast</th>\n",
       "      <td>62592.87309</td>\n",
       "    </tr>\n",
       "    <tr>\n",
       "      <th>southwest</th>\n",
       "      <td>52590.82939</td>\n",
       "    </tr>\n",
       "  </tbody>\n",
       "</table>\n",
       "</div>"
      ],
      "text/plain": [
       "               charges\n",
       "region                \n",
       "northeast  48549.17835\n",
       "northwest  60021.39897\n",
       "southeast  62592.87309\n",
       "southwest  52590.82939"
      ]
     },
     "execution_count": 27,
     "metadata": {},
     "output_type": "execute_result"
    }
   ],
   "source": [
    "male_region[['charges']].max()\n"
   ]
  },
  {
   "cell_type": "code",
   "execution_count": 28,
   "id": "637a4407-df30-4ebd-a92f-7c9333d219ae",
   "metadata": {},
   "outputs": [
    {
     "data": {
      "text/html": [
       "<div>\n",
       "<style scoped>\n",
       "    .dataframe tbody tr th:only-of-type {\n",
       "        vertical-align: middle;\n",
       "    }\n",
       "\n",
       "    .dataframe tbody tr th {\n",
       "        vertical-align: top;\n",
       "    }\n",
       "\n",
       "    .dataframe thead th {\n",
       "        text-align: right;\n",
       "    }\n",
       "</style>\n",
       "<table border=\"1\" class=\"dataframe\">\n",
       "  <thead>\n",
       "    <tr style=\"text-align: right;\">\n",
       "      <th></th>\n",
       "      <th>charges</th>\n",
       "    </tr>\n",
       "    <tr>\n",
       "      <th>region</th>\n",
       "      <th></th>\n",
       "    </tr>\n",
       "  </thead>\n",
       "  <tbody>\n",
       "    <tr>\n",
       "      <th>northeast</th>\n",
       "      <td>13854.005374</td>\n",
       "    </tr>\n",
       "    <tr>\n",
       "      <th>northwest</th>\n",
       "      <td>12354.119575</td>\n",
       "    </tr>\n",
       "    <tr>\n",
       "      <th>southeast</th>\n",
       "      <td>15879.617173</td>\n",
       "    </tr>\n",
       "    <tr>\n",
       "      <th>southwest</th>\n",
       "      <td>13412.883576</td>\n",
       "    </tr>\n",
       "  </tbody>\n",
       "</table>\n",
       "</div>"
      ],
      "text/plain": [
       "                charges\n",
       "region                 \n",
       "northeast  13854.005374\n",
       "northwest  12354.119575\n",
       "southeast  15879.617173\n",
       "southwest  13412.883576"
      ]
     },
     "execution_count": 28,
     "metadata": {},
     "output_type": "execute_result"
    }
   ],
   "source": [
    "male_region[['charges']].mean()\n"
   ]
  },
  {
   "cell_type": "code",
   "execution_count": 29,
   "id": "ed93defb-0606-4e00-9d67-3216ba177357",
   "metadata": {},
   "outputs": [
    {
     "data": {
      "text/html": [
       "<div>\n",
       "<style scoped>\n",
       "    .dataframe tbody tr th:only-of-type {\n",
       "        vertical-align: middle;\n",
       "    }\n",
       "\n",
       "    .dataframe tbody tr th {\n",
       "        vertical-align: top;\n",
       "    }\n",
       "\n",
       "    .dataframe thead th {\n",
       "        text-align: right;\n",
       "    }\n",
       "</style>\n",
       "<table border=\"1\" class=\"dataframe\">\n",
       "  <thead>\n",
       "    <tr style=\"text-align: right;\">\n",
       "      <th></th>\n",
       "      <th>min_charges</th>\n",
       "      <th>max_charges</th>\n",
       "      <th>mean_charges</th>\n",
       "    </tr>\n",
       "    <tr>\n",
       "      <th>region</th>\n",
       "      <th></th>\n",
       "      <th></th>\n",
       "      <th></th>\n",
       "    </tr>\n",
       "  </thead>\n",
       "  <tbody>\n",
       "    <tr>\n",
       "      <th>northeast</th>\n",
       "      <td>1694.7964</td>\n",
       "      <td>48549.17835</td>\n",
       "      <td>13854.005374</td>\n",
       "    </tr>\n",
       "    <tr>\n",
       "      <th>northwest</th>\n",
       "      <td>1621.3402</td>\n",
       "      <td>60021.39897</td>\n",
       "      <td>12354.119575</td>\n",
       "    </tr>\n",
       "    <tr>\n",
       "      <th>southeast</th>\n",
       "      <td>1121.8739</td>\n",
       "      <td>62592.87309</td>\n",
       "      <td>15879.617173</td>\n",
       "    </tr>\n",
       "    <tr>\n",
       "      <th>southwest</th>\n",
       "      <td>1241.5650</td>\n",
       "      <td>52590.82939</td>\n",
       "      <td>13412.883576</td>\n",
       "    </tr>\n",
       "  </tbody>\n",
       "</table>\n",
       "</div>"
      ],
      "text/plain": [
       "           min_charges  max_charges  mean_charges\n",
       "region                                           \n",
       "northeast    1694.7964  48549.17835  13854.005374\n",
       "northwest    1621.3402  60021.39897  12354.119575\n",
       "southeast    1121.8739  62592.87309  15879.617173\n",
       "southwest    1241.5650  52590.82939  13412.883576"
      ]
     },
     "execution_count": 29,
     "metadata": {},
     "output_type": "execute_result"
    }
   ],
   "source": [
    "male_region['charges'].agg(min_charges=\"min\",max_charges='max',mean_charges='mean')"
   ]
  },
  {
   "cell_type": "markdown",
   "id": "f0e2ee1d-c591-4028-ade2-305e1f062a22",
   "metadata": {},
   "source": [
    "## Female condidate region chargs min , max , mean "
   ]
  },
  {
   "cell_type": "code",
   "execution_count": 30,
   "id": "4c1a6c24-b8e1-4b02-8bdb-5722f2765f1d",
   "metadata": {},
   "outputs": [
    {
     "data": {
      "text/html": [
       "<div>\n",
       "<style scoped>\n",
       "    .dataframe tbody tr th:only-of-type {\n",
       "        vertical-align: middle;\n",
       "    }\n",
       "\n",
       "    .dataframe tbody tr th {\n",
       "        vertical-align: top;\n",
       "    }\n",
       "\n",
       "    .dataframe thead th {\n",
       "        text-align: right;\n",
       "    }\n",
       "</style>\n",
       "<table border=\"1\" class=\"dataframe\">\n",
       "  <thead>\n",
       "    <tr style=\"text-align: right;\">\n",
       "      <th></th>\n",
       "      <th>min_charges</th>\n",
       "      <th>max_charges</th>\n",
       "      <th>mean_charges</th>\n",
       "    </tr>\n",
       "    <tr>\n",
       "      <th>region</th>\n",
       "      <th></th>\n",
       "      <th></th>\n",
       "      <th></th>\n",
       "    </tr>\n",
       "  </thead>\n",
       "  <tbody>\n",
       "    <tr>\n",
       "      <th>northeast</th>\n",
       "      <td>2196.47320</td>\n",
       "      <td>58571.07448</td>\n",
       "      <td>12953.203151</td>\n",
       "    </tr>\n",
       "    <tr>\n",
       "      <th>northwest</th>\n",
       "      <td>2117.33885</td>\n",
       "      <td>55135.40209</td>\n",
       "      <td>12479.870397</td>\n",
       "    </tr>\n",
       "    <tr>\n",
       "      <th>southeast</th>\n",
       "      <td>1607.51010</td>\n",
       "      <td>63770.42801</td>\n",
       "      <td>13499.669243</td>\n",
       "    </tr>\n",
       "    <tr>\n",
       "      <th>southwest</th>\n",
       "      <td>1727.78500</td>\n",
       "      <td>48824.45000</td>\n",
       "      <td>11274.411264</td>\n",
       "    </tr>\n",
       "  </tbody>\n",
       "</table>\n",
       "</div>"
      ],
      "text/plain": [
       "           min_charges  max_charges  mean_charges\n",
       "region                                           \n",
       "northeast   2196.47320  58571.07448  12953.203151\n",
       "northwest   2117.33885  55135.40209  12479.870397\n",
       "southeast   1607.51010  63770.42801  13499.669243\n",
       "southwest   1727.78500  48824.45000  11274.411264"
      ]
     },
     "execution_count": 30,
     "metadata": {},
     "output_type": "execute_result"
    }
   ],
   "source": [
    "female_region = female.groupby('region')\n",
    "female_group_analysis = female_region['charges'].agg(min_charges=\"min\",max_charges='max',mean_charges='mean')\n",
    "female_group_analysis"
   ]
  },
  {
   "cell_type": "code",
   "execution_count": 31,
   "id": "15a222b5-be75-4009-a6d4-63705976cf02",
   "metadata": {},
   "outputs": [
    {
     "data": {
      "text/plain": [
       "['northeast', 'northwest', 'southeast', 'southwest']"
      ]
     },
     "execution_count": 31,
     "metadata": {},
     "output_type": "execute_result"
    }
   ],
   "source": [
    "female_regions = list(female_group_analysis['mean_charges'].index)\n",
    "female_regions"
   ]
  },
  {
   "cell_type": "code",
   "execution_count": 32,
   "id": "6ec472ad-714a-40de-89c2-75e7907e1317",
   "metadata": {},
   "outputs": [
    {
     "data": {
      "text/plain": [
       "[12953.203151298138,\n",
       " 12479.870396585366,\n",
       " 13499.669242914284,\n",
       " 11274.411263641974]"
      ]
     },
     "execution_count": 32,
     "metadata": {},
     "output_type": "execute_result"
    }
   ],
   "source": [
    "average_charges = list(female_group_analysis['mean_charges'].values)\n",
    "average_charges"
   ]
  },
  {
   "cell_type": "code",
   "execution_count": 33,
   "id": "bdcb36f0-fd19-462e-8dd2-6b4470223c2c",
   "metadata": {},
   "outputs": [
    {
     "data": {
      "image/png": "[encoded data removed]",
      "text/plain": [
       "<Figure size 640x480 with 1 Axes>"
      ]
     },
     "metadata": {},
     "output_type": "display_data"
    }
   ],
   "source": [
    "plt.bar(female_regions,average_charges)\n",
    "plt.show()"
   ]
  },
  {
   "cell_type": "code",
   "execution_count": 34,
   "id": "6d0ce2bb-60ec-47bc-b4f2-0a66e559960f",
   "metadata": {},
   "outputs": [],
   "source": [
    "#### assignment \n",
    "# feature engineering  \n",
    "# < 18.5   ==> underweight \n",
    "# 18.5 to 24.9  ==> HealthyWeight \n",
    "# 25.0 to 29.9  ==> overweight\n",
    "# 30 > \"obese\"\n",
    "\n",
    "## underweight , HealthyWeight , overweight\n",
    "\n",
    "# health_category "
   ]
  },
  {
   "cell_type": "code",
   "execution_count": 35,
   "id": "866b1013-0206-4f39-9442-7c9c1b44b056",
   "metadata": {},
   "outputs": [],
   "source": [
    "ls = list(df['bmi'])"
   ]
  },
  {
   "cell_type": "code",
   "execution_count": 36,
   "id": "d41ebe19-3208-4479-8ce4-e4230e3f55ae",
   "metadata": {},
   "outputs": [],
   "source": [
    "ls = list(df['bmi'])\n",
    "label = []\n",
    "for w in ls:\n",
    "    if w<18.5:\n",
    "        label.append('Underweight')\n",
    "    elif w >18.5 and w<24.9:\n",
    "        label.append('HealthyWeight')\n",
    "    elif w>25.0 and w <29.9:\n",
    "        label.append('Overweight')\n",
    "    else:\n",
    "        label.append('obese')"
   ]
  },
  {
   "cell_type": "code",
   "execution_count": 37,
   "id": "b15a1172-9b93-4aac-b7b0-a4237683b295",
   "metadata": {},
   "outputs": [],
   "source": [
    "df['health_category'] = label"
   ]
  },
  {
   "cell_type": "code",
   "execution_count": 38,
   "id": "82caeb92-2da5-4f80-8ff2-c61527b167d9",
   "metadata": {},
   "outputs": [
    {
     "data": {
      "text/html": [
       "<div>\n",
       "<style scoped>\n",
       "    .dataframe tbody tr th:only-of-type {\n",
       "        vertical-align: middle;\n",
       "    }\n",
       "\n",
       "    .dataframe tbody tr th {\n",
       "        vertical-align: top;\n",
       "    }\n",
       "\n",
       "    .dataframe thead th {\n",
       "        text-align: right;\n",
       "    }\n",
       "</style>\n",
       "<table border=\"1\" class=\"dataframe\">\n",
       "  <thead>\n",
       "    <tr style=\"text-align: right;\">\n",
       "      <th></th>\n",
       "      <th>age</th>\n",
       "      <th>gender</th>\n",
       "      <th>bmi</th>\n",
       "      <th>child</th>\n",
       "      <th>smoker</th>\n",
       "      <th>region</th>\n",
       "      <th>charges</th>\n",
       "      <th>health_category</th>\n",
       "    </tr>\n",
       "  </thead>\n",
       "  <tbody>\n",
       "    <tr>\n",
       "      <th>0</th>\n",
       "      <td>19</td>\n",
       "      <td>female</td>\n",
       "      <td>27.900</td>\n",
       "      <td>0</td>\n",
       "      <td>yes</td>\n",
       "      <td>southwest</td>\n",
       "      <td>16884.92400</td>\n",
       "      <td>Overweight</td>\n",
       "    </tr>\n",
       "    <tr>\n",
       "      <th>1</th>\n",
       "      <td>18</td>\n",
       "      <td>male</td>\n",
       "      <td>33.770</td>\n",
       "      <td>1</td>\n",
       "      <td>no</td>\n",
       "      <td>southeast</td>\n",
       "      <td>1725.55230</td>\n",
       "      <td>obese</td>\n",
       "    </tr>\n",
       "    <tr>\n",
       "      <th>2</th>\n",
       "      <td>28</td>\n",
       "      <td>male</td>\n",
       "      <td>33.000</td>\n",
       "      <td>3</td>\n",
       "      <td>no</td>\n",
       "      <td>southeast</td>\n",
       "      <td>4449.46200</td>\n",
       "      <td>obese</td>\n",
       "    </tr>\n",
       "    <tr>\n",
       "      <th>3</th>\n",
       "      <td>33</td>\n",
       "      <td>male</td>\n",
       "      <td>22.705</td>\n",
       "      <td>0</td>\n",
       "      <td>no</td>\n",
       "      <td>northwest</td>\n",
       "      <td>21984.47061</td>\n",
       "      <td>HealthyWeight</td>\n",
       "    </tr>\n",
       "    <tr>\n",
       "      <th>4</th>\n",
       "      <td>32</td>\n",
       "      <td>male</td>\n",
       "      <td>28.880</td>\n",
       "      <td>0</td>\n",
       "      <td>no</td>\n",
       "      <td>northwest</td>\n",
       "      <td>3866.85520</td>\n",
       "      <td>Overweight</td>\n",
       "    </tr>\n",
       "  </tbody>\n",
       "</table>\n",
       "</div>"
      ],
      "text/plain": [
       "   age  gender     bmi  child smoker     region      charges health_category\n",
       "0   19  female  27.900      0    yes  southwest  16884.92400      Overweight\n",
       "1   18    male  33.770      1     no  southeast   1725.55230           obese\n",
       "2   28    male  33.000      3     no  southeast   4449.46200           obese\n",
       "3   33    male  22.705      0     no  northwest  21984.47061   HealthyWeight\n",
       "4   32    male  28.880      0     no  northwest   3866.85520      Overweight"
      ]
     },
     "execution_count": 38,
     "metadata": {},
     "output_type": "execute_result"
    }
   ],
   "source": [
    "df.head()"
   ]
  },
  {
   "cell_type": "code",
   "execution_count": 39,
   "id": "e122cb34-c994-4efe-a974-4d95bcbde961",
   "metadata": {},
   "outputs": [],
   "source": [
    "# gender ==> onehot encode   \n",
    "gender_dict = {'female':0,'male':1}\n",
    "smoker_dict = {'yes':1,'no':0}\n",
    "\n",
    "df['gender'] = df['gender'].map(gender_dict)\n",
    "df['smoker'] = df['smoker'].map(smoker_dict)"
   ]
  },
  {
   "cell_type": "code",
   "execution_count": 40,
   "id": "bf19cfc2-ba04-45c3-8cab-d801e204aeb8",
   "metadata": {},
   "outputs": [
    {
     "data": {
      "text/plain": [
       "0          Overweight\n",
       "1               obese\n",
       "2               obese\n",
       "3       HealthyWeight\n",
       "4          Overweight\n",
       "            ...      \n",
       "1333            obese\n",
       "1334            obese\n",
       "1335            obese\n",
       "1336       Overweight\n",
       "1337       Overweight\n",
       "Name: health_category, Length: 1338, dtype: object"
      ]
     },
     "execution_count": 40,
     "metadata": {},
     "output_type": "execute_result"
    }
   ],
   "source": [
    "df.health_category"
   ]
  },
  {
   "cell_type": "code",
   "execution_count": 41,
   "id": "4130d63c-6e3f-449e-a353-7b2408f2f8d0",
   "metadata": {},
   "outputs": [
    {
     "data": {
      "text/plain": [
       "health_category\n",
       "obese            725\n",
       "Overweight       372\n",
       "HealthyWeight    221\n",
       "Underweight       20\n",
       "Name: count, dtype: int64"
      ]
     },
     "execution_count": 41,
     "metadata": {},
     "output_type": "execute_result"
    }
   ],
   "source": [
    "df.health_category.value_counts()\n",
    "## pie plot() "
   ]
  },
  {
   "cell_type": "code",
   "execution_count": 42,
   "id": "5446126e-43e7-43cc-b2f0-15216e320415",
   "metadata": {},
   "outputs": [],
   "source": [
    "# list(df.health_category.value_counts().keys())"
   ]
  },
  {
   "cell_type": "code",
   "execution_count": 43,
   "id": "bd8332df-0e08-4438-85a2-b08288b46614",
   "metadata": {},
   "outputs": [
    {
     "data": {
      "image/png": "[encoded data removed]",
      "text/plain": [
       "<Figure size 800x800 with 1 Axes>"
      ]
     },
     "metadata": {},
     "output_type": "display_data"
    }
   ],
   "source": [
    "value_counts = df['health_category'].value_counts()\n",
    "plt.figure(figsize=(8, 8))\n",
    "plt.pie(value_counts, labels=value_counts.index, autopct='%1.1f%%', startangle=140,wedgeprops={'ec':'k','lw':2})\n",
    "plt.title('Health Category Distribution')\n",
    "plt.axis('equal')\n",
    "plt.show()"
   ]
  },
  {
   "cell_type": "code",
   "execution_count": 44,
   "id": "c746ed0c-12f9-417c-beba-a611e6c3b6e7",
   "metadata": {},
   "outputs": [
    {
     "data": {
      "text/plain": [
       "health_category\n",
       "obese            725\n",
       "Overweight       372\n",
       "HealthyWeight    221\n",
       "Underweight       20\n",
       "Name: count, dtype: int64"
      ]
     },
     "execution_count": 44,
     "metadata": {},
     "output_type": "execute_result"
    }
   ],
   "source": [
    "df['health_category'].value_counts()"
   ]
  },
  {
   "cell_type": "code",
   "execution_count": 45,
   "id": "af689ae6-933b-4a04-8c15-33bf345f03c4",
   "metadata": {},
   "outputs": [],
   "source": [
    "health_category_dict = {'Underweight':1,'HealthyWeight':2,'Overweight':3,'obese':4}\n",
    "df['health_category'] = df['health_category'].map(health_category_dict)"
   ]
  },
  {
   "cell_type": "code",
   "execution_count": 46,
   "id": "6bad1a22-0671-4077-8840-0fce6d784051",
   "metadata": {},
   "outputs": [
    {
     "data": {
      "text/html": [
       "<div>\n",
       "<style scoped>\n",
       "    .dataframe tbody tr th:only-of-type {\n",
       "        vertical-align: middle;\n",
       "    }\n",
       "\n",
       "    .dataframe tbody tr th {\n",
       "        vertical-align: top;\n",
       "    }\n",
       "\n",
       "    .dataframe thead th {\n",
       "        text-align: right;\n",
       "    }\n",
       "</style>\n",
       "<table border=\"1\" class=\"dataframe\">\n",
       "  <thead>\n",
       "    <tr style=\"text-align: right;\">\n",
       "      <th></th>\n",
       "      <th>age</th>\n",
       "      <th>gender</th>\n",
       "      <th>bmi</th>\n",
       "      <th>child</th>\n",
       "      <th>smoker</th>\n",
       "      <th>region</th>\n",
       "      <th>charges</th>\n",
       "      <th>health_category</th>\n",
       "    </tr>\n",
       "  </thead>\n",
       "  <tbody>\n",
       "    <tr>\n",
       "      <th>0</th>\n",
       "      <td>19</td>\n",
       "      <td>0</td>\n",
       "      <td>27.900</td>\n",
       "      <td>0</td>\n",
       "      <td>1</td>\n",
       "      <td>southwest</td>\n",
       "      <td>16884.92400</td>\n",
       "      <td>3</td>\n",
       "    </tr>\n",
       "    <tr>\n",
       "      <th>1</th>\n",
       "      <td>18</td>\n",
       "      <td>1</td>\n",
       "      <td>33.770</td>\n",
       "      <td>1</td>\n",
       "      <td>0</td>\n",
       "      <td>southeast</td>\n",
       "      <td>1725.55230</td>\n",
       "      <td>4</td>\n",
       "    </tr>\n",
       "    <tr>\n",
       "      <th>2</th>\n",
       "      <td>28</td>\n",
       "      <td>1</td>\n",
       "      <td>33.000</td>\n",
       "      <td>3</td>\n",
       "      <td>0</td>\n",
       "      <td>southeast</td>\n",
       "      <td>4449.46200</td>\n",
       "      <td>4</td>\n",
       "    </tr>\n",
       "    <tr>\n",
       "      <th>3</th>\n",
       "      <td>33</td>\n",
       "      <td>1</td>\n",
       "      <td>22.705</td>\n",
       "      <td>0</td>\n",
       "      <td>0</td>\n",
       "      <td>northwest</td>\n",
       "      <td>21984.47061</td>\n",
       "      <td>2</td>\n",
       "    </tr>\n",
       "    <tr>\n",
       "      <th>4</th>\n",
       "      <td>32</td>\n",
       "      <td>1</td>\n",
       "      <td>28.880</td>\n",
       "      <td>0</td>\n",
       "      <td>0</td>\n",
       "      <td>northwest</td>\n",
       "      <td>3866.85520</td>\n",
       "      <td>3</td>\n",
       "    </tr>\n",
       "  </tbody>\n",
       "</table>\n",
       "</div>"
      ],
      "text/plain": [
       "   age  gender     bmi  child  smoker     region      charges  health_category\n",
       "0   19       0  27.900      0       1  southwest  16884.92400                3\n",
       "1   18       1  33.770      1       0  southeast   1725.55230                4\n",
       "2   28       1  33.000      3       0  southeast   4449.46200                4\n",
       "3   33       1  22.705      0       0  northwest  21984.47061                2\n",
       "4   32       1  28.880      0       0  northwest   3866.85520                3"
      ]
     },
     "execution_count": 46,
     "metadata": {},
     "output_type": "execute_result"
    }
   ],
   "source": [
    "df.head()"
   ]
  },
  {
   "cell_type": "code",
   "execution_count": 47,
   "id": "9865bb76-60ee-4d48-92eb-35e2771f0bf2",
   "metadata": {},
   "outputs": [
    {
     "data": {
      "text/html": [
       "<div>\n",
       "<style scoped>\n",
       "    .dataframe tbody tr th:only-of-type {\n",
       "        vertical-align: middle;\n",
       "    }\n",
       "\n",
       "    .dataframe tbody tr th {\n",
       "        vertical-align: top;\n",
       "    }\n",
       "\n",
       "    .dataframe thead th {\n",
       "        text-align: right;\n",
       "    }\n",
       "</style>\n",
       "<table border=\"1\" class=\"dataframe\">\n",
       "  <thead>\n",
       "    <tr style=\"text-align: right;\">\n",
       "      <th></th>\n",
       "      <th>age</th>\n",
       "      <th>gender</th>\n",
       "      <th>bmi</th>\n",
       "      <th>child</th>\n",
       "      <th>smoker</th>\n",
       "      <th>charges</th>\n",
       "      <th>health_category</th>\n",
       "      <th>region_northeast</th>\n",
       "      <th>region_northwest</th>\n",
       "      <th>region_southeast</th>\n",
       "      <th>region_southwest</th>\n",
       "    </tr>\n",
       "  </thead>\n",
       "  <tbody>\n",
       "    <tr>\n",
       "      <th>0</th>\n",
       "      <td>19</td>\n",
       "      <td>0</td>\n",
       "      <td>27</td>\n",
       "      <td>0</td>\n",
       "      <td>1</td>\n",
       "      <td>16884</td>\n",
       "      <td>3</td>\n",
       "      <td>0</td>\n",
       "      <td>0</td>\n",
       "      <td>0</td>\n",
       "      <td>1</td>\n",
       "    </tr>\n",
       "    <tr>\n",
       "      <th>1</th>\n",
       "      <td>18</td>\n",
       "      <td>1</td>\n",
       "      <td>33</td>\n",
       "      <td>1</td>\n",
       "      <td>0</td>\n",
       "      <td>1725</td>\n",
       "      <td>4</td>\n",
       "      <td>0</td>\n",
       "      <td>0</td>\n",
       "      <td>1</td>\n",
       "      <td>0</td>\n",
       "    </tr>\n",
       "    <tr>\n",
       "      <th>2</th>\n",
       "      <td>28</td>\n",
       "      <td>1</td>\n",
       "      <td>33</td>\n",
       "      <td>3</td>\n",
       "      <td>0</td>\n",
       "      <td>4449</td>\n",
       "      <td>4</td>\n",
       "      <td>0</td>\n",
       "      <td>0</td>\n",
       "      <td>1</td>\n",
       "      <td>0</td>\n",
       "    </tr>\n",
       "    <tr>\n",
       "      <th>3</th>\n",
       "      <td>33</td>\n",
       "      <td>1</td>\n",
       "      <td>22</td>\n",
       "      <td>0</td>\n",
       "      <td>0</td>\n",
       "      <td>21984</td>\n",
       "      <td>2</td>\n",
       "      <td>0</td>\n",
       "      <td>1</td>\n",
       "      <td>0</td>\n",
       "      <td>0</td>\n",
       "    </tr>\n",
       "    <tr>\n",
       "      <th>4</th>\n",
       "      <td>32</td>\n",
       "      <td>1</td>\n",
       "      <td>28</td>\n",
       "      <td>0</td>\n",
       "      <td>0</td>\n",
       "      <td>3866</td>\n",
       "      <td>3</td>\n",
       "      <td>0</td>\n",
       "      <td>1</td>\n",
       "      <td>0</td>\n",
       "      <td>0</td>\n",
       "    </tr>\n",
       "  </tbody>\n",
       "</table>\n",
       "</div>"
      ],
      "text/plain": [
       "   age  gender  bmi  child  smoker  charges  health_category  \\\n",
       "0   19       0   27      0       1    16884                3   \n",
       "1   18       1   33      1       0     1725                4   \n",
       "2   28       1   33      3       0     4449                4   \n",
       "3   33       1   22      0       0    21984                2   \n",
       "4   32       1   28      0       0     3866                3   \n",
       "\n",
       "   region_northeast  region_northwest  region_southeast  region_southwest  \n",
       "0                 0                 0                 0                 1  \n",
       "1                 0                 0                 1                 0  \n",
       "2                 0                 0                 1                 0  \n",
       "3                 0                 1                 0                 0  \n",
       "4                 0                 1                 0                 0  "
      ]
     },
     "execution_count": 47,
     "metadata": {},
     "output_type": "execute_result"
    }
   ],
   "source": [
    "# region\n",
    "final_data = pd.get_dummies(df).astype(int)\n",
    "final_data.head()"
   ]
  },
  {
   "cell_type": "code",
   "execution_count": 48,
   "id": "572d5323-1c6b-4c93-a61f-60c339ed2dfd",
   "metadata": {},
   "outputs": [],
   "source": [
    "###  x and y split  \n",
    "x = final_data.drop('charges',axis='columns')\n",
    "y = final_data[['charges']]"
   ]
  },
  {
   "cell_type": "code",
   "execution_count": 49,
   "id": "02fba2fd-ca3d-4532-861c-630c9855be4f",
   "metadata": {},
   "outputs": [],
   "source": [
    "### Training training and testing split test_size= 0.2\n",
    "from sklearn.model_selection import train_test_split "
   ]
  },
  {
   "cell_type": "code",
   "execution_count": 50,
   "id": "a24c7f39-adca-416b-b3ac-f5d3499a3fad",
   "metadata": {},
   "outputs": [],
   "source": [
    "x_train,x_test, y_train,y_test = train_test_split(x,y,train_size=0.8)  # test size 20% training size 80 % "
   ]
  },
  {
   "cell_type": "code",
   "execution_count": 51,
   "id": "9b9c59ba-3ead-4433-8f22-c22277736a2b",
   "metadata": {},
   "outputs": [],
   "source": [
    "## Model Training  \n",
    "# Regression \n",
    "# 1 LinearRegression \n",
    "# 2 .DecisionTree \n",
    "# RandomForeset \n",
    "from sklearn.linear_model import LinearRegression \n",
    "from sklearn.tree import DecisionTreeRegressor,DecisionTreeClassifier\n",
    "from sklearn.ensemble import RandomForestRegressor,RandomForestClassifier "
   ]
  },
  {
   "cell_type": "code",
   "execution_count": 52,
   "id": "16f13709-2a1b-4610-8c9d-f6662a5ee04d",
   "metadata": {},
   "outputs": [],
   "source": [
    "## object creation\n",
    "# Hyper parameter turning  ---> to obtained highest accuracy \n",
    "lnr = LinearRegression()\n",
    "dtr = DecisionTreeRegressor()\n",
    "rdmfr = RandomForestRegressor()\n",
    "# i am going with default parameters "
   ]
  },
  {
   "cell_type": "code",
   "execution_count": 53,
   "id": "eb2ed959-384a-49fe-aabf-3071ed760d29",
   "metadata": {},
   "outputs": [],
   "source": [
    "# class Linar:\n",
    "#     def __init__(self,a=10,b=20):\n",
    "#         pass \n",
    "# obj = Linar()"
   ]
  },
  {
   "cell_type": "code",
   "execution_count": 54,
   "id": "42af8175-eee6-4633-91c0-dbe674a5a0de",
   "metadata": {},
   "outputs": [],
   "source": [
    "import warnings \n",
    "warnings.filterwarnings('ignore')"
   ]
  },
  {
   "cell_type": "code",
   "execution_count": 55,
   "id": "2d33e3bf-e94a-4923-aa3f-fa79a346ea29",
   "metadata": {},
   "outputs": [
    {
     "data": {
      "text/plain": [
       "age                 0\n",
       "gender              0\n",
       "bmi                 0\n",
       "child               0\n",
       "smoker              0\n",
       "health_category     0\n",
       "region_northeast    0\n",
       "region_northwest    0\n",
       "region_southeast    0\n",
       "region_southwest    0\n",
       "dtype: int64"
      ]
     },
     "execution_count": 55,
     "metadata": {},
     "output_type": "execute_result"
    }
   ],
   "source": [
    "x_train.isnull().sum()"
   ]
  },
  {
   "cell_type": "code",
   "execution_count": 56,
   "id": "49582871-22e5-4114-aab0-d8c0e5cfa3b0",
   "metadata": {},
   "outputs": [
    {
     "name": "stdout",
     "output_type": "stream",
     "text": [
      "You have trained your all algorithms \n"
     ]
    }
   ],
   "source": [
    "## model train \n",
    "lnr.fit(x_train,y_train) \n",
    "dtr.fit(x_train,y_train) \n",
    "rdmfr.fit(x_train,y_train) \n",
    "print('You have trained your all algorithms ')"
   ]
  },
  {
   "cell_type": "code",
   "execution_count": 57,
   "id": "cdbe5b93-4880-43e1-8380-3f07d097cbfc",
   "metadata": {},
   "outputs": [
    {
     "name": "stdout",
     "output_type": "stream",
     "text": [
      "Training score by linear :  75.02013688015997\n",
      "Training score by DecisionTree :  99.85532464146235\n",
      "Training score by RandomForest :  97.5852724891731\n",
      "\n",
      "Testing score by linear :  76.33847855108\n",
      "Testing score by DecisionTree :  73.1047677206252\n",
      "Testing score by RandomForest :  84.70111155753261\n"
     ]
    }
   ],
   "source": [
    "## Model Evaluation \n",
    "\n",
    "print(\"Training score by linear : \",lnr.score(x_train,y_train)*100 )\n",
    "print(\"Training score by DecisionTree : \",dtr.score(x_train,y_train)*100)\n",
    "print(\"Training score by RandomForest : \",rdmfr.score(x_train,y_train)*100) \n",
    "\n",
    "print() \n",
    "\n",
    "print(\"Testing score by linear : \",lnr.score(x_test,y_test)*100 )\n",
    "print(\"Testing score by DecisionTree : \",dtr.score(x_test,y_test)*100)\n",
    "print(\"Testing score by RandomForest : \",rdmfr.score(x_test,y_test)*100)"
   ]
  },
  {
   "cell_type": "code",
   "execution_count": 58,
   "id": "6ef2c593-642c-407f-997e-d86b35ee2dc4",
   "metadata": {},
   "outputs": [],
   "source": [
    "### prediction  \n",
    "prediction_liner = lnr.predict(x_test)\n",
    "prediction_Decisiontree = dtr.predict(x_test)\n",
    "prediction_randomforest = rdmfr.predict(x_test)"
   ]
  },
  {
   "cell_type": "code",
   "execution_count": 59,
   "id": "c6a9b00c-eb32-4242-b181-43bc9c0eea9b",
   "metadata": {},
   "outputs": [
    {
     "data": {
      "text/html": [
       "<div>\n",
       "<style scoped>\n",
       "    .dataframe tbody tr th:only-of-type {\n",
       "        vertical-align: middle;\n",
       "    }\n",
       "\n",
       "    .dataframe tbody tr th {\n",
       "        vertical-align: top;\n",
       "    }\n",
       "\n",
       "    .dataframe thead th {\n",
       "        text-align: right;\n",
       "    }\n",
       "</style>\n",
       "<table border=\"1\" class=\"dataframe\">\n",
       "  <thead>\n",
       "    <tr style=\"text-align: right;\">\n",
       "      <th></th>\n",
       "      <th>age</th>\n",
       "      <th>gender</th>\n",
       "      <th>bmi</th>\n",
       "      <th>child</th>\n",
       "      <th>smoker</th>\n",
       "      <th>health_category</th>\n",
       "      <th>region_northeast</th>\n",
       "      <th>region_northwest</th>\n",
       "      <th>region_southeast</th>\n",
       "      <th>region_southwest</th>\n",
       "      <th>charges</th>\n",
       "    </tr>\n",
       "  </thead>\n",
       "  <tbody>\n",
       "    <tr>\n",
       "      <th>674</th>\n",
       "      <td>44</td>\n",
       "      <td>0</td>\n",
       "      <td>43</td>\n",
       "      <td>2</td>\n",
       "      <td>1</td>\n",
       "      <td>4</td>\n",
       "      <td>0</td>\n",
       "      <td>0</td>\n",
       "      <td>1</td>\n",
       "      <td>0</td>\n",
       "      <td>46200</td>\n",
       "    </tr>\n",
       "    <tr>\n",
       "      <th>362</th>\n",
       "      <td>19</td>\n",
       "      <td>0</td>\n",
       "      <td>21</td>\n",
       "      <td>0</td>\n",
       "      <td>1</td>\n",
       "      <td>2</td>\n",
       "      <td>0</td>\n",
       "      <td>0</td>\n",
       "      <td>0</td>\n",
       "      <td>1</td>\n",
       "      <td>13844</td>\n",
       "    </tr>\n",
       "    <tr>\n",
       "      <th>339</th>\n",
       "      <td>46</td>\n",
       "      <td>0</td>\n",
       "      <td>27</td>\n",
       "      <td>1</td>\n",
       "      <td>0</td>\n",
       "      <td>3</td>\n",
       "      <td>0</td>\n",
       "      <td>0</td>\n",
       "      <td>1</td>\n",
       "      <td>0</td>\n",
       "      <td>8232</td>\n",
       "    </tr>\n",
       "    <tr>\n",
       "      <th>828</th>\n",
       "      <td>41</td>\n",
       "      <td>1</td>\n",
       "      <td>30</td>\n",
       "      <td>3</td>\n",
       "      <td>1</td>\n",
       "      <td>4</td>\n",
       "      <td>1</td>\n",
       "      <td>0</td>\n",
       "      <td>0</td>\n",
       "      <td>0</td>\n",
       "      <td>39597</td>\n",
       "    </tr>\n",
       "    <tr>\n",
       "      <th>1301</th>\n",
       "      <td>62</td>\n",
       "      <td>1</td>\n",
       "      <td>30</td>\n",
       "      <td>3</td>\n",
       "      <td>1</td>\n",
       "      <td>4</td>\n",
       "      <td>0</td>\n",
       "      <td>1</td>\n",
       "      <td>0</td>\n",
       "      <td>0</td>\n",
       "      <td>46718</td>\n",
       "    </tr>\n",
       "  </tbody>\n",
       "</table>\n",
       "</div>"
      ],
      "text/plain": [
       "      age  gender  bmi  child  smoker  health_category  region_northeast  \\\n",
       "674    44       0   43      2       1                4                 0   \n",
       "362    19       0   21      0       1                2                 0   \n",
       "339    46       0   27      1       0                3                 0   \n",
       "828    41       1   30      3       1                4                 1   \n",
       "1301   62       1   30      3       1                4                 0   \n",
       "\n",
       "      region_northwest  region_southeast  region_southwest  charges  \n",
       "674                  0                 1                 0    46200  \n",
       "362                  0                 0                 1    13844  \n",
       "339                  0                 1                 0     8232  \n",
       "828                  0                 0                 0    39597  \n",
       "1301                 1                 0                 0    46718  "
      ]
     },
     "execution_count": 59,
     "metadata": {},
     "output_type": "execute_result"
    }
   ],
   "source": [
    "comparison_df = pd.concat([x_test,y_test],axis=1)\n",
    "comparison_df.head()"
   ]
  },
  {
   "cell_type": "code",
   "execution_count": 60,
   "id": "4fb0a44e-4d56-44ff-8f1c-e849556b44c5",
   "metadata": {},
   "outputs": [],
   "source": [
    "comparison_df['linear_prediction'] =  prediction_liner\n",
    "comparison_df['decisionTree_prediction'] =  prediction_Decisiontree\n",
    "comparison_df['randomforest_prediction'] = prediction_randomforest "
   ]
  },
  {
   "cell_type": "code",
   "execution_count": 61,
   "id": "c11005e0-7de4-4077-97cb-1726dea5c07c",
   "metadata": {},
   "outputs": [
    {
     "data": {
      "text/html": [
       "<div>\n",
       "<style scoped>\n",
       "    .dataframe tbody tr th:only-of-type {\n",
       "        vertical-align: middle;\n",
       "    }\n",
       "\n",
       "    .dataframe tbody tr th {\n",
       "        vertical-align: top;\n",
       "    }\n",
       "\n",
       "    .dataframe thead th {\n",
       "        text-align: right;\n",
       "    }\n",
       "</style>\n",
       "<table border=\"1\" class=\"dataframe\">\n",
       "  <thead>\n",
       "    <tr style=\"text-align: right;\">\n",
       "      <th></th>\n",
       "      <th>age</th>\n",
       "      <th>gender</th>\n",
       "      <th>bmi</th>\n",
       "      <th>child</th>\n",
       "      <th>smoker</th>\n",
       "      <th>health_category</th>\n",
       "      <th>region_northeast</th>\n",
       "      <th>region_northwest</th>\n",
       "      <th>region_southeast</th>\n",
       "      <th>region_southwest</th>\n",
       "      <th>charges</th>\n",
       "      <th>linear_prediction</th>\n",
       "      <th>decisionTree_prediction</th>\n",
       "      <th>randomforest_prediction</th>\n",
       "    </tr>\n",
       "  </thead>\n",
       "  <tbody>\n",
       "    <tr>\n",
       "      <th>674</th>\n",
       "      <td>44</td>\n",
       "      <td>0</td>\n",
       "      <td>43</td>\n",
       "      <td>2</td>\n",
       "      <td>1</td>\n",
       "      <td>4</td>\n",
       "      <td>0</td>\n",
       "      <td>0</td>\n",
       "      <td>1</td>\n",
       "      <td>0</td>\n",
       "      <td>46200</td>\n",
       "      <td>36595.106676</td>\n",
       "      <td>46151.0</td>\n",
       "      <td>46515.59</td>\n",
       "    </tr>\n",
       "    <tr>\n",
       "      <th>362</th>\n",
       "      <td>19</td>\n",
       "      <td>0</td>\n",
       "      <td>21</td>\n",
       "      <td>0</td>\n",
       "      <td>1</td>\n",
       "      <td>2</td>\n",
       "      <td>0</td>\n",
       "      <td>0</td>\n",
       "      <td>0</td>\n",
       "      <td>1</td>\n",
       "      <td>13844</td>\n",
       "      <td>22254.097824</td>\n",
       "      <td>14283.0</td>\n",
       "      <td>17289.57</td>\n",
       "    </tr>\n",
       "    <tr>\n",
       "      <th>339</th>\n",
       "      <td>46</td>\n",
       "      <td>0</td>\n",
       "      <td>27</td>\n",
       "      <td>1</td>\n",
       "      <td>0</td>\n",
       "      <td>3</td>\n",
       "      <td>0</td>\n",
       "      <td>0</td>\n",
       "      <td>1</td>\n",
       "      <td>0</td>\n",
       "      <td>8232</td>\n",
       "      <td>8648.019062</td>\n",
       "      <td>28340.0</td>\n",
       "      <td>12135.50</td>\n",
       "    </tr>\n",
       "    <tr>\n",
       "      <th>828</th>\n",
       "      <td>41</td>\n",
       "      <td>1</td>\n",
       "      <td>30</td>\n",
       "      <td>3</td>\n",
       "      <td>1</td>\n",
       "      <td>4</td>\n",
       "      <td>1</td>\n",
       "      <td>0</td>\n",
       "      <td>0</td>\n",
       "      <td>0</td>\n",
       "      <td>39597</td>\n",
       "      <td>35082.538771</td>\n",
       "      <td>43943.0</td>\n",
       "      <td>41023.52</td>\n",
       "    </tr>\n",
       "    <tr>\n",
       "      <th>1301</th>\n",
       "      <td>62</td>\n",
       "      <td>1</td>\n",
       "      <td>30</td>\n",
       "      <td>3</td>\n",
       "      <td>1</td>\n",
       "      <td>4</td>\n",
       "      <td>0</td>\n",
       "      <td>1</td>\n",
       "      <td>0</td>\n",
       "      <td>0</td>\n",
       "      <td>46718</td>\n",
       "      <td>40309.684694</td>\n",
       "      <td>60021.0</td>\n",
       "      <td>50063.71</td>\n",
       "    </tr>\n",
       "  </tbody>\n",
       "</table>\n",
       "</div>"
      ],
      "text/plain": [
       "      age  gender  bmi  child  smoker  health_category  region_northeast  \\\n",
       "674    44       0   43      2       1                4                 0   \n",
       "362    19       0   21      0       1                2                 0   \n",
       "339    46       0   27      1       0                3                 0   \n",
       "828    41       1   30      3       1                4                 1   \n",
       "1301   62       1   30      3       1                4                 0   \n",
       "\n",
       "      region_northwest  region_southeast  region_southwest  charges  \\\n",
       "674                  0                 1                 0    46200   \n",
       "362                  0                 0                 1    13844   \n",
       "339                  0                 1                 0     8232   \n",
       "828                  0                 0                 0    39597   \n",
       "1301                 1                 0                 0    46718   \n",
       "\n",
       "      linear_prediction  decisionTree_prediction  randomforest_prediction  \n",
       "674        36595.106676                  46151.0                 46515.59  \n",
       "362        22254.097824                  14283.0                 17289.57  \n",
       "339         8648.019062                  28340.0                 12135.50  \n",
       "828        35082.538771                  43943.0                 41023.52  \n",
       "1301       40309.684694                  60021.0                 50063.71  "
      ]
     },
     "execution_count": 61,
     "metadata": {},
     "output_type": "execute_result"
    }
   ],
   "source": [
    "comparison_df.head()"
   ]
  },
  {
   "cell_type": "code",
   "execution_count": 62,
   "id": "0e23344a-53ad-4d25-b15c-629aab8014aa",
   "metadata": {},
   "outputs": [],
   "source": [
    "comparison_df.to_csv('prediction.csv',index=False) "
   ]
  },
  {
   "cell_type": "code",
   "execution_count": 63,
   "id": "54b97662-2673-431f-9384-9c32cd32521d",
   "metadata": {},
   "outputs": [],
   "source": [
    "import joblib,os "
   ]
  },
  {
   "cell_type": "code",
   "execution_count": 64,
   "id": "0c1d65e9-4028-4106-bc85-ee5cab3823f0",
   "metadata": {},
   "outputs": [
    {
     "data": {
      "text/plain": [
       "['./models/randomforest.lb']"
      ]
     },
     "execution_count": 64,
     "metadata": {},
     "output_type": "execute_result"
    }
   ],
   "source": [
    "### SAVING THE MODELS \n",
    "os.makedirs('models',exist_ok=True)\n",
    "joblib.dump(lnr,'./models/linear_model.lb')\n",
    "joblib.dump(dtr,'./models/decisionttree.lb')\n",
    "joblib.dump(rdmfr,'./models/randomforest.lb')\n"
   ]
  },
  {
   "cell_type": "markdown",
   "id": "2c2fe396-ea53-4619-800b-a8cfe7aba509",
   "metadata": {},
   "source": [
    "### Thank you 😊"
   ]
  }
 ],
 "metadata": {
  "kernelspec": {
   "display_name": "Python 3 (ipykernel)",
   "language": "python",
   "name": "python3"
  },
  "language_info": {
   "codemirror_mode": {
    "name": "ipython",
    "version": 3
   },
   "file_extension": ".py",
   "mimetype": "text/x-python",
   "name": "python",
   "nbconvert_exporter": "python",
   "pygments_lexer": "ipython3",
   "version": "3.11.7"
  }
 },
 "nbformat": 4,
 "nbformat_minor": 5
}
